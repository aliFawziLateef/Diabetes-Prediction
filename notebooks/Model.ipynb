{
 "cells": [
  {
   "cell_type": "markdown",
   "metadata": {
    "colab_type": "text",
    "id": "view-in-github"
   },
   "source": [
    "<a href=\"https://colab.research.google.com/github/UznetDev/Diabetes-Prediction/blob/main/notebooks/Model.ipynb\" target=\"_parent\"><img src=\"https://colab.research.google.com/assets/colab-badge.svg\" alt=\"Open In Colab\"/></a>"
   ]
  },
  {
   "cell_type": "markdown",
   "metadata": {
    "id": "026bajRXFDsP"
   },
   "source": [
    "## Import and install necessary model"
   ]
  },
  {
   "cell_type": "code",
   "execution_count": null,
   "metadata": {
    "id": "xmgLMhMCELpK"
   },
   "outputs": [],
   "source": [
    "import pandas as pd\n",
    "import numpy as np\n",
    "from sklearn.model_selection import train_test_split, cross_val_score, StratifiedKFold\n",
    "from sklearn.pipeline import Pipeline\n",
    "from sklearn.base import BaseEstimator, TransformerMixin\n",
    "from sklearn.ensemble import RandomForestClassifier\n",
    "from sklearn.preprocessing import StandardScaler\n",
    "from sklearn.pipeline import Pipeline\n",
    "from sklearn.metrics import (accuracy_score,\n",
    "                             precision_score,\n",
    "                             recall_score,\n",
    "                             f1_score,\n",
    "                             roc_curve, roc_auc_score)\n",
    "import joblib\n",
    "import dill as pickle\n",
    "import sys\n",
    "import os\n",
    "sys.path.append(os.path.abspath('..'))\n",
    "\n",
    "from function.transformers import FeatureEngineering, WoEEncoding, ColumnSelector"
   ]
  },
  {
   "cell_type": "markdown",
   "metadata": {
    "id": "pcjGVpfyFIKI"
   },
   "source": [
    "## Train dataset"
   ]
  },
  {
   "cell_type": "markdown",
   "metadata": {
    "id": "0KseNn0niEAw"
   },
   "source": [
    "This dataset is originally from the National Institute of Diabetes and Digestive and Kidney Diseases. The objective is to predict based on diagnostic measurements whether a patient has diabetes."
   ]
  },
  {
   "cell_type": "code",
   "execution_count": 12,
   "metadata": {
    "colab": {
     "base_uri": "https://localhost:8080/",
     "height": 206
    },
    "id": "kY_bnjLhFUo2",
    "outputId": "53433cf1-5c88-4f73-b1c4-62a13f1feeaf"
   },
   "outputs": [
    {
     "data": {
      "text/html": [
       "<div>\n",
       "<style scoped>\n",
       "    .dataframe tbody tr th:only-of-type {\n",
       "        vertical-align: middle;\n",
       "    }\n",
       "\n",
       "    .dataframe tbody tr th {\n",
       "        vertical-align: top;\n",
       "    }\n",
       "\n",
       "    .dataframe thead th {\n",
       "        text-align: right;\n",
       "    }\n",
       "</style>\n",
       "<table border=\"1\" class=\"dataframe\">\n",
       "  <thead>\n",
       "    <tr style=\"text-align: right;\">\n",
       "      <th></th>\n",
       "      <th>Pregnancies</th>\n",
       "      <th>Glucose</th>\n",
       "      <th>BloodPressure</th>\n",
       "      <th>SkinThickness</th>\n",
       "      <th>Insulin</th>\n",
       "      <th>BMI</th>\n",
       "      <th>DiabetesPedigreeFunction</th>\n",
       "      <th>Age</th>\n",
       "      <th>Outcome</th>\n",
       "    </tr>\n",
       "  </thead>\n",
       "  <tbody>\n",
       "    <tr>\n",
       "      <th>0</th>\n",
       "      <td>6</td>\n",
       "      <td>148</td>\n",
       "      <td>72</td>\n",
       "      <td>35</td>\n",
       "      <td>0</td>\n",
       "      <td>33.6</td>\n",
       "      <td>0.627</td>\n",
       "      <td>50</td>\n",
       "      <td>1</td>\n",
       "    </tr>\n",
       "    <tr>\n",
       "      <th>1</th>\n",
       "      <td>1</td>\n",
       "      <td>85</td>\n",
       "      <td>66</td>\n",
       "      <td>29</td>\n",
       "      <td>0</td>\n",
       "      <td>26.6</td>\n",
       "      <td>0.351</td>\n",
       "      <td>31</td>\n",
       "      <td>0</td>\n",
       "    </tr>\n",
       "    <tr>\n",
       "      <th>2</th>\n",
       "      <td>8</td>\n",
       "      <td>183</td>\n",
       "      <td>64</td>\n",
       "      <td>0</td>\n",
       "      <td>0</td>\n",
       "      <td>23.3</td>\n",
       "      <td>0.672</td>\n",
       "      <td>32</td>\n",
       "      <td>1</td>\n",
       "    </tr>\n",
       "    <tr>\n",
       "      <th>3</th>\n",
       "      <td>1</td>\n",
       "      <td>89</td>\n",
       "      <td>66</td>\n",
       "      <td>23</td>\n",
       "      <td>94</td>\n",
       "      <td>28.1</td>\n",
       "      <td>0.167</td>\n",
       "      <td>21</td>\n",
       "      <td>0</td>\n",
       "    </tr>\n",
       "    <tr>\n",
       "      <th>4</th>\n",
       "      <td>0</td>\n",
       "      <td>137</td>\n",
       "      <td>40</td>\n",
       "      <td>35</td>\n",
       "      <td>168</td>\n",
       "      <td>43.1</td>\n",
       "      <td>2.288</td>\n",
       "      <td>33</td>\n",
       "      <td>1</td>\n",
       "    </tr>\n",
       "  </tbody>\n",
       "</table>\n",
       "</div>"
      ],
      "text/plain": [
       "   Pregnancies  Glucose  BloodPressure  SkinThickness  Insulin   BMI  \\\n",
       "0            6      148             72             35        0  33.6   \n",
       "1            1       85             66             29        0  26.6   \n",
       "2            8      183             64              0        0  23.3   \n",
       "3            1       89             66             23       94  28.1   \n",
       "4            0      137             40             35      168  43.1   \n",
       "\n",
       "   DiabetesPedigreeFunction  Age  Outcome  \n",
       "0                     0.627   50        1  \n",
       "1                     0.351   31        0  \n",
       "2                     0.672   32        1  \n",
       "3                     0.167   21        0  \n",
       "4                     2.288   33        1  "
      ]
     },
     "execution_count": 12,
     "metadata": {},
     "output_type": "execute_result"
    }
   ],
   "source": [
    "df = pd.read_csv('../datasets/diabetes.csv')\n",
    "df.head()"
   ]
  },
  {
   "cell_type": "code",
   "execution_count": 13,
   "metadata": {
    "colab": {
     "base_uri": "https://localhost:8080/"
    },
    "id": "gfNCE1JfhZzw",
    "outputId": "04ebcc57-4084-4e5a-8422-f127cb01ad34"
   },
   "outputs": [
    {
     "data": {
      "text/plain": [
       "(1040, 9)"
      ]
     },
     "execution_count": 13,
     "metadata": {},
     "output_type": "execute_result"
    }
   ],
   "source": [
    "df.shape"
   ]
  },
  {
   "cell_type": "code",
   "execution_count": 14,
   "metadata": {
    "colab": {
     "base_uri": "https://localhost:8080/"
    },
    "id": "K_XSRmAghbTt",
    "outputId": "f4367b95-b7c5-46ec-bbef-0170e11ff164"
   },
   "outputs": [
    {
     "name": "stdout",
     "output_type": "stream",
     "text": [
      "<class 'pandas.core.frame.DataFrame'>\n",
      "RangeIndex: 1040 entries, 0 to 1039\n",
      "Data columns (total 9 columns):\n",
      " #   Column                    Non-Null Count  Dtype  \n",
      "---  ------                    --------------  -----  \n",
      " 0   Pregnancies               1040 non-null   int64  \n",
      " 1   Glucose                   1040 non-null   int64  \n",
      " 2   BloodPressure             1040 non-null   int64  \n",
      " 3   SkinThickness             1040 non-null   int64  \n",
      " 4   Insulin                   1040 non-null   int64  \n",
      " 5   BMI                       1040 non-null   float64\n",
      " 6   DiabetesPedigreeFunction  1040 non-null   float64\n",
      " 7   Age                       1040 non-null   int64  \n",
      " 8   Outcome                   1040 non-null   int64  \n",
      "dtypes: float64(2), int64(7)\n",
      "memory usage: 73.3 KB\n"
     ]
    }
   ],
   "source": [
    "df.info()"
   ]
  },
  {
   "cell_type": "markdown",
   "metadata": {
    "id": "h3VxYtpZh81e"
   },
   "source": [
    "We have 1040 observations and 9 features, which is a bit few, but we'll give it a try."
   ]
  },
  {
   "cell_type": "markdown",
   "metadata": {
    "id": "_HfPhCWFiQCm"
   },
   "source": [
    "### Feature\n",
    "\n",
    "* Pregnancies: Number of times pregnant\n",
    "* Glucose: Plasma glucose concentration a 2 hours in an oral glucose tolerance test\n",
    "* BloodPressure: Diastolic blood pressure (mm Hg)\n",
    "* SkinThickness: Triceps skin fold thickness (mm)\n",
    "* Insulin: 2-Hour serum insulin (mu U/ml)\n",
    "* BMI: Body mass index (weight in kg/(height in m)^2)\n",
    "* DiabetesPedigreeFunction: Diabetes pedigree function\n",
    "* Age: Age (years)\n",
    "* Outcome: Class variable (0 or 1)"
   ]
  },
  {
   "cell_type": "markdown",
   "metadata": {
    "id": "ne51R_CxihyW"
   },
   "source": [
    "We must predict `Outcome` with hight quality."
   ]
  },
  {
   "cell_type": "markdown",
   "metadata": {
    "id": "QCW7SV40GjgP"
   },
   "source": [
    "## Transformers"
   ]
  },
  {
   "cell_type": "markdown",
   "metadata": {
    "id": "peF8VlOUi8ZR"
   },
   "source": [
    "The `FeatureEngineering` transformer was created to generate some necessary new features, providing us with the required new columns."
   ]
  },
  {
   "cell_type": "code",
   "execution_count": 5,
   "metadata": {
    "id": "nYG-wauPG54I"
   },
   "outputs": [],
   "source": [
    "class FeatureEngineering(BaseEstimator, TransformerMixin):\n",
    "    def __init__(self):\n",
    "        self.epsilon = 1e-5\n",
    "\n",
    "    def fit(self, X, y=None):\n",
    "        return self\n",
    "\n",
    "    def transform(self, X):\n",
    "        data = X.copy()\n",
    "        data['PregnancyRatio'] = data['Pregnancies'] / (data['Age'] + self.epsilon)\n",
    "        data['RiskScore'] = (0.5 * data['Glucose'] + 0.3 * data['BMI'] + 0.2 * data['Age'])\n",
    "        data['InsulinEfficiency'] = (data['Insulin'] + self.epsilon) / (data['Glucose'] + self.epsilon)\n",
    "        data['Glucose_BMI'] = (data['Glucose'] + self.epsilon) / (data['BMI'] + self.epsilon)\n",
    "        data['BMI_Age'] = data['BMI'] * data['Age']\n",
    "        return data"
   ]
  },
  {
   "cell_type": "markdown",
   "metadata": {
    "id": "XHT4O3lKjkJy"
   },
   "source": [
    "The `WoEEncoding` transformer is used to encode categorical columns with Weight of Evidence (WoE) values. This helps improve the prediction accuracy of the model."
   ]
  },
  {
   "cell_type": "code",
   "execution_count": 6,
   "metadata": {
    "id": "JxuaK1vcZLkx"
   },
   "outputs": [],
   "source": [
    "class WoEEncoding(BaseEstimator, TransformerMixin):\n",
    "    def __init__(self):\n",
    "        self.feature_bins = {\n",
    "            'Pregnancies': [-np.inf, 1.7, 5.1, 8.5, np.inf],\n",
    "            'Glucose': [-np.inf, 90.6, 119.4, 159.2, np.inf],\n",
    "            'BMI': [-np.inf, 26.84, 38.26, np.inf],\n",
    "            'RiskScore': [-np.inf, 55.61, 77.51, 99.41, np.inf],\n",
    "        }\n",
    "        self.woe_mappings = {}\n",
    "\n",
    "    def fit(self, X, y):\n",
    "        y = pd.Series(y, name='target')\n",
    "        for feature, bins in self.feature_bins.items():\n",
    "            X[f'{feature}_cat'] = pd.cut(X[feature], bins=bins)\n",
    "            woe_df = self._calculate_woe(X, f'{feature}_cat', y)\n",
    "            self.woe_mappings[feature] = woe_df.set_index(f'{feature}_cat')['WOE'].to_dict()\n",
    "        return self\n",
    "\n",
    "    def transform(self, X):\n",
    "        data = X.copy()\n",
    "        for feature in self.feature_bins.keys():\n",
    "            data[f'{feature}_cat'] = pd.cut(data[feature], bins=self.feature_bins[feature])\n",
    "            data[f'{feature}_woe'] = data[f'{feature}_cat'].map(self.woe_mappings[feature])\n",
    "            data.drop(columns=[f'{feature}_cat'], inplace=True)\n",
    "        return data\n",
    "\n",
    "    def _calculate_woe(self, data, feature_name, y):\n",
    "        data['target'] = y\n",
    "        grouped = data.groupby(feature_name, observed=False)['target'].value_counts().unstack(fill_value=0)\n",
    "        grouped.columns = ['non_events', 'events']\n",
    "        grouped['event_rate'] = grouped['events'] / grouped['events'].sum()\n",
    "        grouped['non_event_rate'] = grouped['non_events'] / grouped['non_events'].sum()\n",
    "        grouped['WOE'] = np.log(grouped['event_rate'] / grouped['non_event_rate'])\n",
    "        return grouped.reset_index()"
   ]
  },
  {
   "cell_type": "markdown",
   "metadata": {
    "id": "tBT3q7tUj4q0"
   },
   "source": [
    "The `ColumnSelector` transformer is used to select exactly the necessary columns for our model, helping to prevent unnecessary noise."
   ]
  },
  {
   "cell_type": "code",
   "execution_count": 7,
   "metadata": {
    "id": "4nvqiQyDH_Xa"
   },
   "outputs": [],
   "source": [
    "class ColumnSelector(BaseEstimator, TransformerMixin):\n",
    "    def __init__(self, columns):\n",
    "        self.columns = columns\n",
    "\n",
    "    def fit(self, X, y=None):\n",
    "        return self\n",
    "\n",
    "    def transform(self, X):\n",
    "        return X[self.columns]"
   ]
  },
  {
   "cell_type": "markdown",
   "metadata": {
    "id": "ax7R5-KUHhL3"
   },
   "source": [
    "## Model"
   ]
  },
  {
   "cell_type": "markdown",
   "metadata": {
    "id": "EMM25lWvkQsO"
   },
   "source": [
    "We will split the data and run `StratifiedKFold`. `StratifiedKFold` is used for predicting binary classes."
   ]
  },
  {
   "cell_type": "code",
   "execution_count": 8,
   "metadata": {
    "id": "zLkCifwnQx46"
   },
   "outputs": [],
   "source": [
    "X = df.drop(columns=['Outcome'])\n",
    "y = df['Outcome']\n",
    "X_train, X_test, y_train, y_test = train_test_split(X, y, test_size=0.2, random_state=42, stratify=y)\n",
    "cv = StratifiedKFold(n_splits=5,\n",
    "                     shuffle=True,\n",
    "                     random_state=42)"
   ]
  },
  {
   "cell_type": "markdown",
   "metadata": {
    "id": "Y_FxscUPkS26"
   },
   "source": [
    "In this section, we use the `RandomForestClassifier` model because it has shown the best results on this dataset. The model's hyperparameters were determined using the Optuna optimizer and integrated with previous transformers through a `Pipeline`. This approach makes the modeling process efficient and convenient."
   ]
  },
  {
   "cell_type": "code",
   "execution_count": 28,
   "metadata": {
    "colab": {
     "base_uri": "https://localhost:8080/"
    },
    "id": "NTJsad6uSOHo",
    "outputId": "76d34615-d3cd-4512-856f-fed4ff1e4d50"
   },
   "outputs": [
    {
     "name": "stdout",
     "output_type": "stream",
     "text": [
      "Cross-validated AUC: 0.8140\n"
     ]
    }
   ],
   "source": [
    "# Required columns after feature engineering and WoE encoding\n",
    "selected_columns = [\n",
    "    'Pregnancies', 'Glucose', 'BMI', 'PregnancyRatio',\n",
    "    'RiskScore', 'InsulinEfficiency', 'Glucose_BMI', 'BMI_Age',\n",
    "    'Glucose_woe', 'RiskScore_woe'\n",
    "]\n",
    "\n",
    "# Pipeline setup\n",
    "pipeline = Pipeline([\n",
    "    ('feature_engineering', FeatureEngineering()),\n",
    "    ('woe_encoding', WoEEncoding()),\n",
    "    ('column_selector', ColumnSelector(selected_columns)),\n",
    "    ('random_forest', RandomForestClassifier(max_depth=6,\n",
    "                                             n_estimators=300,\n",
    "                                             criterion='entropy'))\n",
    "])\n",
    "\n",
    "# Train and evaluate\n",
    "X = df.drop(columns=['Outcome'])\n",
    "y = df['Outcome']\n",
    "cv = StratifiedKFold(n_splits=5, shuffle=True, random_state=42)\n",
    "cv_score = cross_val_score(pipeline, X, y, cv=cv, scoring='roc_auc').mean()\n",
    "pipeline.fit(X, y)\n",
    "print(f\"Cross-validated AUC: {cv_score:.4f}\")"
   ]
  },
  {
   "cell_type": "markdown",
   "metadata": {
    "id": "nvq0y9Y6l1IJ"
   },
   "source": [
    "We will evaluate the model, which was developed using ROC AUC as the primary metric. Model selection was also based on ROC AUC and validated through cross-validation, as we only have 1040 data points, making cross-validation especially useful. In determining thresholds, more emphasis was placed on recall since recall is considered more important in this scenario."
   ]
  },
  {
   "cell_type": "code",
   "execution_count": null,
   "metadata": {
    "colab": {
     "base_uri": "https://localhost:8080/"
    },
    "id": "8oSnv3tWa_rZ",
    "outputId": "5d869567-b44a-47df-89ec-d6c4eaeee5ae"
   },
   "outputs": [],
   "source": [
    "thresholds = 0.32\n",
    "y_pred_proba = pipeline.predict_proba(X_test)[:, 1]\n",
    "y_pred = (y_pred_proba >= thresholds).astype(int)\n",
    "\n",
    "f1_result = f1_score(y_test, y_pred)\n",
    "accuracy_result = accuracy_score(y_test, y_pred)\n",
    "recall_result = recall_score(y_test, y_pred)\n",
    "precision_result = precision_score(y_test, y_pred)\n",
    "\n",
    "print(f\"F1 Score: {f1_result:.4f}\")\n",
    "print(f\"Accuracy Score: {accuracy_result:.4f}\")\n",
    "print(f\"Recall Score: {recall_result:.4f}\")\n",
    "print(f\"Precision Score: {precision_result:.4f}\")\n",
    "print(f\"ROC AUC Score: {cv_score:.4f}\")"
   ]
  }
 ],
 "metadata": {
  "colab": {
   "authorship_tag": "ABX9TyOtunlzhIkW9VzWrOo6u58h",
   "include_colab_link": true,
   "provenance": []
  },
  "kernelspec": {
   "display_name": "Python 3",
   "name": "python3"
  },
  "language_info": {
   "codemirror_mode": {
    "name": "ipython",
    "version": 3
   },
   "file_extension": ".py",
   "mimetype": "text/x-python",
   "name": "python",
   "nbconvert_exporter": "python",
   "pygments_lexer": "ipython3",
   "version": "3.12.1"
  }
 },
 "nbformat": 4,
 "nbformat_minor": 0
}
